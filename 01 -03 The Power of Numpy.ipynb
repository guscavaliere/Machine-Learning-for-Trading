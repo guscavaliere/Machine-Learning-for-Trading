{
 "cells": [
  {
   "cell_type": "markdown",
   "metadata": {},
   "source": [
    "                                   01 -03 The Power of Numpy"
   ]
  },
  {
   "cell_type": "markdown",
   "metadata": {},
   "source": [
    "Pandas is a wrapper for Numpy"
   ]
  },
  {
   "cell_type": "markdown",
   "metadata": {},
   "source": [
    "                   You can consider the values of the dataframe as a ndarray from numpy.\n",
    " \n",
    " \n",
    " \n",
    " To extract those values, we set:\n",
    " \n",
    " nd1 = df1.values"
   ]
  },
  {
   "cell_type": "code",
   "execution_count": 1,
   "metadata": {
    "collapsed": true
   },
   "outputs": [],
   "source": [
    "#                nd1 = df1.values"
   ]
  },
  {
   "cell_type": "markdown",
   "metadata": {},
   "source": [
    "2 - Acess data within a nd array"
   ]
  },
  {
   "cell_type": "code",
   "execution_count": 3,
   "metadata": {
    "collapsed": true
   },
   "outputs": [],
   "source": [
    "#   nd1[row, column]\n",
    "#   nd[0] is the first element (zero indexed)\n",
    "#   nd1[-1] -- last row\n"
   ]
  },
  {
   "cell_type": "markdown",
   "metadata": {},
   "source": [
    "                                      Remember to review numpy syntax and notation!"
   ]
  },
  {
   "cell_type": "code",
   "execution_count": 20,
   "metadata": {
    "collapsed": true
   },
   "outputs": [],
   "source": [
    "import numpy as np"
   ]
  },
  {
   "cell_type": "code",
   "execution_count": 13,
   "metadata": {
    "collapsed": false
   },
   "outputs": [],
   "source": [
    "nd1 = np.array([(2,3,4), (5,6,7)]) #this function can take tuples, lists, etc\n",
    "# each parentesis will output one row"
   ]
  },
  {
   "cell_type": "code",
   "execution_count": 14,
   "metadata": {
    "collapsed": false
   },
   "outputs": [
    {
     "name": "stdout",
     "output_type": "stream",
     "text": [
      "[[2 3 4]\n",
      " [5 6 7]]\n"
     ]
    }
   ],
   "source": [
    "print (nd1) #this output is an array"
   ]
  },
  {
   "cell_type": "markdown",
   "metadata": {},
   "source": [
    "                                       We shall now create an empty array"
   ]
  },
  {
   "cell_type": "code",
   "execution_count": 15,
   "metadata": {
    "collapsed": true
   },
   "outputs": [],
   "source": [
    "nd2 = np.empty(5)"
   ]
  },
  {
   "cell_type": "code",
   "execution_count": 16,
   "metadata": {
    "collapsed": false
   },
   "outputs": [
    {
     "name": "stdout",
     "output_type": "stream",
     "text": [
      "[  4.19957958e-316   2.56053078e-316   4.74569420e-317   8.97222399e-315\n",
      "   2.22260877e-313]\n"
     ]
    }
   ],
   "source": [
    "print (nd2) #the default data type is float"
   ]
  },
  {
   "cell_type": "code",
   "execution_count": 19,
   "metadata": {
    "collapsed": false
   },
   "outputs": [],
   "source": [
    "nd2 = np.empty((5, 4, 3))"
   ]
  },
  {
   "cell_type": "code",
   "execution_count": 20,
   "metadata": {
    "collapsed": false
   },
   "outputs": [
    {
     "name": "stdout",
     "output_type": "stream",
     "text": [
      "[[[  3.39953912e-308   0.00000000e+000   0.00000000e+000]\n",
      "  [  0.00000000e+000   3.44286782e-300   0.00000000e+000]\n",
      "  [  0.00000000e+000   0.00000000e+000   1.54223259e-308]\n",
      "  [  9.34157964e-315   2.96439388e-323   4.72044745e-316]]\n",
      "\n",
      " [[  1.64088351e-303   0.00000000e+000   0.00000000e+000]\n",
      "  [  0.00000000e+000   3.51146612e+151   1.29744654e-311]\n",
      "  [  1.62969277e-311   3.63964718e-310   2.49208273e-306]\n",
      "  [ -3.13264791e-294   1.63321263e-301   1.33442067e+241]]\n",
      "\n",
      " [[  4.74783839e-309   2.15208490e-282   5.72972541e+250]\n",
      "  [  1.03105230e-308   1.45261014e-296   7.23386757e+221]\n",
      "  [  2.06427796e-309   9.51986434e-292   3.92052692e+202]\n",
      "  [  2.51744294e-292   1.30918653e-308   2.87522673e-188]]\n",
      "\n",
      " [[  1.07042855e-296   1.27749738e+294   1.17555177e-308]\n",
      "  [  2.49208610e-306   3.91957011e+202   1.30972982e-308]\n",
      "  [  2.49210917e-306   3.91957011e+202   9.00293893e-066]\n",
      "  [  1.44879697e-308   6.05841488e-268   5.17883716e+120]]\n",
      "\n",
      " [[  5.74659350e+250   1.44879689e-308   3.61530488e+223]\n",
      "  [  3.25677451e-292   2.08869741e+289   6.10591685e-309]\n",
      "  [  2.06162906e-229   3.91957011e+202   6.73606552e-310]\n",
      "  [  1.26408628e-109   6.01346953e-154   2.13777321e+161]]]\n"
     ]
    }
   ],
   "source": [
    "print (nd2)"
   ]
  },
  {
   "cell_type": "markdown",
   "metadata": {},
   "source": [
    "                                      Creating an array of ones"
   ]
  },
  {
   "cell_type": "code",
   "execution_count": 21,
   "metadata": {
    "collapsed": true
   },
   "outputs": [],
   "source": [
    "nd2=np.ones((5,4))"
   ]
  },
  {
   "cell_type": "code",
   "execution_count": 22,
   "metadata": {
    "collapsed": false
   },
   "outputs": [
    {
     "name": "stdout",
     "output_type": "stream",
     "text": [
      "[[ 1.  1.  1.  1.]\n",
      " [ 1.  1.  1.  1.]\n",
      " [ 1.  1.  1.  1.]\n",
      " [ 1.  1.  1.  1.]\n",
      " [ 1.  1.  1.  1.]]\n"
     ]
    }
   ],
   "source": [
    "print(nd2)"
   ]
  },
  {
   "cell_type": "markdown",
   "metadata": {
    "collapsed": true
   },
   "source": [
    "                                    Changing the data type"
   ]
  },
  {
   "cell_type": "code",
   "execution_count": 26,
   "metadata": {
    "collapsed": false
   },
   "outputs": [],
   "source": [
    "nd2 = np.ones((5,4), dtype=np.int)"
   ]
  },
  {
   "cell_type": "code",
   "execution_count": 27,
   "metadata": {
    "collapsed": false
   },
   "outputs": [
    {
     "name": "stdout",
     "output_type": "stream",
     "text": [
      "[[1 1 1 1]\n",
      " [1 1 1 1]\n",
      " [1 1 1 1]\n",
      " [1 1 1 1]\n",
      " [1 1 1 1]]\n"
     ]
    }
   ],
   "source": [
    "print (nd2\n",
    "      )"
   ]
  },
  {
   "cell_type": "code",
   "execution_count": 1,
   "metadata": {
    "collapsed": true
   },
   "outputs": [],
   "source": [
    "#you can create an array full of zeros with np.zeros()"
   ]
  },
  {
   "cell_type": "markdown",
   "metadata": {},
   "source": [
    "                                        Generate random values"
   ]
  },
  {
   "cell_type": "code",
   "execution_count": 23,
   "metadata": {
    "collapsed": false
   },
   "outputs": [
    {
     "name": "stdout",
     "output_type": "stream",
     "text": [
      "[[ 0.68449049  0.39252876  0.93416813  0.74532811]\n",
      " [ 0.05199344  0.99588688  0.02060116  0.09253283]\n",
      " [ 0.52918278  0.28176663  0.20647013  0.08881505]\n",
      " [ 0.75941203  0.46187804  0.66786053  0.40801456]\n",
      " [ 0.00807548  0.56772481  0.51704294  0.04321833]]\n"
     ]
    }
   ],
   "source": [
    "#we call the random method -- from [0.0,1.0)\n",
    "print (np.random.random((5,4)))\n",
    "    "
   ]
  },
  {
   "cell_type": "code",
   "execution_count": 22,
   "metadata": {
    "collapsed": false
   },
   "outputs": [
    {
     "name": "stdout",
     "output_type": "stream",
     "text": [
      "[[ 0.88882085  0.06176877  0.49620764  0.9632905 ]\n",
      " [ 0.19259994  0.25525041  0.09451388  0.65657066]\n",
      " [ 0.77836734  0.73455773  0.66014369  0.44314557]\n",
      " [ 0.83452824  0.21786352  0.80009147  0.97182481]\n",
      " [ 0.12135228  0.25669378  0.55756154  0.47096292]]\n"
     ]
    }
   ],
   "source": [
    "#another way\n",
    "print (np.random.rand(5,4))"
   ]
  },
  {
   "cell_type": "code",
   "execution_count": 24,
   "metadata": {
    "collapsed": false
   },
   "outputs": [
    {
     "name": "stdout",
     "output_type": "stream",
     "text": [
      "[[ 0.32260683  0.07597822 -2.04894501]\n",
      " [ 1.37339213  0.58317044 -1.13438725]]\n"
     ]
    }
   ],
   "source": [
    "#random with normal distribution -- default: mean=0 ; standart deviation=1.0\n",
    "print (np.random.normal(size=(2,3)))"
   ]
  },
  {
   "cell_type": "code",
   "execution_count": 26,
   "metadata": {
    "collapsed": false
   },
   "outputs": [
    {
     "name": "stdout",
     "output_type": "stream",
     "text": [
      "[[ 5.07236987  4.93885009  5.06998003]\n",
      " [ 5.1016521   5.25338694  5.10606565]]\n"
     ]
    }
   ],
   "source": [
    "# we can change the mean and standart deviation\n",
    "# in the example, we use mean =5, std.dev =0.2\n",
    "print (np.random.normal(5,0.2, size=(2,3)))"
   ]
  },
  {
   "cell_type": "code",
   "execution_count": 29,
   "metadata": {
    "collapsed": false
   },
   "outputs": [
    {
     "name": "stdout",
     "output_type": "stream",
     "text": [
      "4\n",
      "4\n",
      "[5 4 7 5 6]\n",
      "[[8 9 7]\n",
      " [5 3 9]]\n"
     ]
    }
   ],
   "source": [
    "#we can also print random integers calling the randint() function\n",
    "print (np.random.randint(10)) #a single integer in [0,10)\n",
    "print (np.random.randint(0,10)) #explict high and low\n",
    "print (np.random.randint(0,10, size=5) )# 1D array of 5 random integers\n",
    "print (np.random.randint(0, 10, size=(2,3))) #2x3 array of random integers\n"
   ]
  },
  {
   "cell_type": "markdown",
   "metadata": {},
   "source": [
    "                                              Array attributes"
   ]
  },
  {
   "cell_type": "code",
   "execution_count": 35,
   "metadata": {
    "collapsed": false
   },
   "outputs": [
    {
     "name": "stdout",
     "output_type": "stream",
     "text": [
      "(5, 4)\n",
      "5\n",
      "4\n"
     ]
    }
   ],
   "source": [
    "# create a new array\n",
    "nd3 = np.ones((5,4))\n",
    "#print the shape using the shape attribute\n",
    "print (nd3.shape)\n",
    "# print the number of rows\n",
    "print (nd3.shape[0])\n",
    "# print nmber of columns\n",
    "print (nd3.shape[1])"
   ]
  },
  {
   "cell_type": "code",
   "execution_count": 36,
   "metadata": {
    "collapsed": false
   },
   "outputs": [
    {
     "name": "stdout",
     "output_type": "stream",
     "text": [
      "2\n"
     ]
    }
   ],
   "source": [
    "# finding the dimension of the array using the len() function\n",
    "print (len(nd3.shape))"
   ]
  },
  {
   "cell_type": "code",
   "execution_count": 37,
   "metadata": {
    "collapsed": false
   },
   "outputs": [
    {
     "name": "stdout",
     "output_type": "stream",
     "text": [
      "20\n"
     ]
    }
   ],
   "source": [
    "# retrieve the number of elements using the size attribute\n",
    "print (nd3.size)"
   ]
  },
  {
   "cell_type": "code",
   "execution_count": 38,
   "metadata": {
    "collapsed": false
   },
   "outputs": [
    {
     "name": "stdout",
     "output_type": "stream",
     "text": [
      "float64\n"
     ]
    }
   ],
   "source": [
    "# find the type of data using the dtype attribute\n",
    "# float64 stands for 64-bit float numbers\n",
    "print (nd3.dtype)"
   ]
  },
  {
   "cell_type": "markdown",
   "metadata": {},
   "source": [
    "                                          Operations on ndarrays"
   ]
  },
  {
   "cell_type": "code",
   "execution_count": 41,
   "metadata": {
    "collapsed": false
   },
   "outputs": [
    {
     "name": "stdout",
     "output_type": "stream",
     "text": [
      "Array: \n",
      " [[2 0 5 1]\n",
      " [1 3 4 4]\n",
      " [9 2 9 1]\n",
      " [9 3 7 5]\n",
      " [4 7 0 3]]\n"
     ]
    }
   ],
   "source": [
    "# we use the seed number generator to get the same numbers every time\n",
    "np.random.seed(693)\n",
    "a=np.random.randint(0,10,size=(5,4))\n",
    "print (\"Array: \\n\", a)"
   ]
  },
  {
   "cell_type": "code",
   "execution_count": 43,
   "metadata": {
    "collapsed": false
   },
   "outputs": [
    {
     "name": "stdout",
     "output_type": "stream",
     "text": [
      "79\n"
     ]
    }
   ],
   "source": [
    "# call the .sum() function to get the sum of the elemenst of the array\n",
    "print (a.sum())"
   ]
  },
  {
   "cell_type": "code",
   "execution_count": 44,
   "metadata": {
    "collapsed": false
   },
   "outputs": [
    {
     "name": "stdout",
     "output_type": "stream",
     "text": [
      "Sum of each column: \n",
      " [25 15 25 14]\n"
     ]
    }
   ],
   "source": [
    "# iterate over rows, to compute sum of each column\n",
    "print(\"Sum of each column: \\n\", a.sum(axis=0))"
   ]
  },
  {
   "cell_type": "code",
   "execution_count": 45,
   "metadata": {
    "collapsed": false
   },
   "outputs": [
    {
     "name": "stdout",
     "output_type": "stream",
     "text": [
      "Sum of each row: \n",
      " [ 8 12 21 24 14]\n"
     ]
    }
   ],
   "source": [
    "# iterate over columns, to compute the sum of each row\n",
    "print (\"Sum of each row: \\n\", a.sum(axis=1))"
   ]
  },
  {
   "cell_type": "code",
   "execution_count": 46,
   "metadata": {
    "collapsed": true
   },
   "outputs": [],
   "source": [
    "#Statistics \n"
   ]
  },
  {
   "cell_type": "code",
   "execution_count": 47,
   "metadata": {
    "collapsed": false
   },
   "outputs": [
    {
     "name": "stdout",
     "output_type": "stream",
     "text": [
      "Minimum of each column: \n",
      " [1 0 0 1]\n"
     ]
    }
   ],
   "source": [
    "#min\n",
    "print (\"Minimum of each column: \\n\", a.min(axis=0))"
   ]
  },
  {
   "cell_type": "code",
   "execution_count": 49,
   "metadata": {
    "collapsed": false
   },
   "outputs": [
    {
     "name": "stdout",
     "output_type": "stream",
     "text": [
      "Maximum of each row: \n",
      " [5 4 9 9 7]\n"
     ]
    }
   ],
   "source": [
    "#max\n",
    "print (\"Maximum of each row: \\n\", a.max(axis=1))"
   ]
  },
  {
   "cell_type": "code",
   "execution_count": 52,
   "metadata": {
    "collapsed": false
   },
   "outputs": [
    {
     "name": "stdout",
     "output_type": "stream",
     "text": [
      "Mean of all elements: \n",
      " 3.95\n"
     ]
    }
   ],
   "source": [
    "#mean \n",
    "print (\"Mean of all elements: \\n\", a.mean())"
   ]
  },
  {
   "cell_type": "code",
   "execution_count": 53,
   "metadata": {
    "collapsed": false
   },
   "outputs": [
    {
     "name": "stdout",
     "output_type": "stream",
     "text": [
      "8\n"
     ]
    }
   ],
   "source": [
    "# finding the index of the maximum value\n",
    "print (np.argmax(a))\n"
   ]
  },
  {
   "cell_type": "markdown",
   "metadata": {},
   "source": [
    "                                          Timing python operations"
   ]
  },
  {
   "cell_type": "code",
   "execution_count": 54,
   "metadata": {
    "collapsed": true
   },
   "outputs": [],
   "source": [
    "import time"
   ]
  },
  {
   "cell_type": "code",
   "execution_count": 56,
   "metadata": {
    "collapsed": false
   },
   "outputs": [
    {
     "name": "stdout",
     "output_type": "stream",
     "text": [
      "The Awaken One\n",
      "The total time taken by the print statement is   -0.0010001659393310547 seconds\n"
     ]
    }
   ],
   "source": [
    "# calculate how long the operation takes by subtracting two time snapshots\n",
    "t1 = time.time()\n",
    "print (\"The Awaken One\")\n",
    "t2=time.time()\n",
    "print(\"The total time taken by the print statement is  \", t1-t2, \"seconds\")"
   ]
  },
  {
   "cell_type": "code",
   "execution_count": 60,
   "metadata": {
    "collapsed": false
   },
   "outputs": [],
   "source": [
    "# Numpy is faster than the other methods\n",
    "\n",
    "b = np.random.random((1000,1000))\n",
    "\n",
    "def manual_mean(arr):\n",
    "    sum=0\n",
    "    for i in xrange(0,arr.shape[0]):\n",
    "        for j in xrange(0,arr.shape[1]):\n",
    "            sum=sum+arr[i,j]\n",
    "    return sum/arr.size\n",
    "\n",
    "def numpy_mean(arr):\n",
    "    return arr.mean()\n",
    "\n",
    "def how_long(fnc, *args):\n",
    "    t0=time()\n",
    "    result=func(*args)\n",
    "    t1=time()\n",
    "    return result , t1-t0\n",
    "\n"
   ]
  },
  {
   "cell_type": "markdown",
   "metadata": {},
   "source": [
    "                                          Acessing array elements"
   ]
  },
  {
   "cell_type": "code",
   "execution_count": 63,
   "metadata": {
    "collapsed": false
   },
   "outputs": [
    {
     "name": "stdout",
     "output_type": "stream",
     "text": [
      "7\n"
     ]
    }
   ],
   "source": [
    "# acessing an element\n",
    "#the row and column index starts from zero\n",
    "element =a[3,2]\n",
    "print (element)"
   ]
  },
  {
   "cell_type": "code",
   "execution_count": 68,
   "metadata": {
    "collapsed": false
   },
   "outputs": [
    {
     "name": "stdout",
     "output_type": "stream",
     "text": [
      "[0 5]\n"
     ]
    }
   ],
   "source": [
    "# slicing operation\n",
    "# first we pass 0 or 1 (row or column), then we pass the desired output\n",
    "print (a[0, 1:3])"
   ]
  },
  {
   "cell_type": "code",
   "execution_count": 69,
   "metadata": {
    "collapsed": false
   },
   "outputs": [
    {
     "name": "stdout",
     "output_type": "stream",
     "text": [
      "[[2 0]\n",
      " [1 3]]\n"
     ]
    }
   ],
   "source": [
    "# getting a subset of the array\n",
    "print(a[0:2, 0:2])"
   ]
  },
  {
   "cell_type": "code",
   "execution_count": 71,
   "metadata": {
    "collapsed": false
   },
   "outputs": [
    {
     "name": "stdout",
     "output_type": "stream",
     "text": [
      "[[2 5]\n",
      " [1 4]\n",
      " [9 9]\n",
      " [9 7]\n",
      " [4 0]]\n"
     ]
    }
   ],
   "source": [
    "# note\n",
    "# slicing n:m:t specifies a range that starts at n, stops before m, in steps of size t.\n",
    "# the next statement will select columns 0 and 2 for every row\n",
    "print (a[:, 0:3:2])"
   ]
  },
  {
   "cell_type": "markdown",
   "metadata": {},
   "source": [
    "                                            Modifying array elements"
   ]
  },
  {
   "cell_type": "code",
   "execution_count": 73,
   "metadata": {
    "collapsed": false
   },
   "outputs": [
    {
     "name": "stdout",
     "output_type": "stream",
     "text": [
      "[[2 0 5 1]\n",
      " [1 3 4 4]\n",
      " [9 2 9 1]\n",
      " [9 3 7 5]\n",
      " [4 7 0 3]]\n"
     ]
    }
   ],
   "source": [
    "a[0,0]=2\n",
    "print (a)"
   ]
  },
  {
   "cell_type": "code",
   "execution_count": 76,
   "metadata": {
    "collapsed": false
   },
   "outputs": [
    {
     "name": "stdout",
     "output_type": "stream",
     "text": [
      "[[2 2 2 2]\n",
      " [1 3 4 4]\n",
      " [9 2 9 1]\n",
      " [9 3 7 5]\n",
      " [4 7 0 3]]\n"
     ]
    }
   ],
   "source": [
    "# modifying a whole row\n",
    "a[0, : ]=2\n",
    "print (a)"
   ]
  },
  {
   "cell_type": "code",
   "execution_count": 77,
   "metadata": {
    "collapsed": false
   },
   "outputs": [
    {
     "name": "stdout",
     "output_type": "stream",
     "text": [
      "[[ 2  2  2 22]\n",
      " [ 1  3  4 23]\n",
      " [ 9  2  9 24]\n",
      " [ 9  3  7 25]\n",
      " [ 4  7  0 26]]\n"
     ]
    }
   ],
   "source": [
    "# you can assign a list of values to a row or a column\n",
    "a[:, 3] = [22,23,24,25,26]\n",
    "print (a)"
   ]
  },
  {
   "cell_type": "markdown",
   "metadata": {},
   "source": [
    "                                      Indexing arrays with other arrays"
   ]
  },
  {
   "cell_type": "code",
   "execution_count": 79,
   "metadata": {
    "collapsed": false
   },
   "outputs": [
    {
     "name": "stdout",
     "output_type": "stream",
     "text": [
      "[[ 1  3  4 23]\n",
      " [ 1  3  4 23]\n",
      " [ 9  2  9 24]\n",
      " [ 9  3  7 25]]\n"
     ]
    }
   ],
   "source": [
    "#creating an one dimensional array of 5 elements\n",
    "c=np.random.random(5)\n",
    "# creating a list of indices\n",
    "indices = np.array([1,1,2,3])\n",
    "print (a[indices])\n",
    "\n"
   ]
  },
  {
   "cell_type": "code",
   "execution_count": 82,
   "metadata": {
    "collapsed": false
   },
   "outputs": [
    {
     "name": "stdout",
     "output_type": "stream",
     "text": [
      "9.2\n",
      "[2 2 2 1 3 4 9 2 9 9 3 7 4 7 0]\n"
     ]
    }
   ],
   "source": [
    "# boolean index arrays\n",
    "mean = a.mean()\n",
    "print (mean)\n",
    "print (a[a<mean])"
   ]
  },
  {
   "cell_type": "code",
   "execution_count": 84,
   "metadata": {
    "collapsed": false
   },
   "outputs": [
    {
     "name": "stdout",
     "output_type": "stream",
     "text": [
      "[[ 9  9  9 22]\n",
      " [ 9  9  9 23]\n",
      " [ 9  9  9 24]\n",
      " [ 9  9  9 25]\n",
      " [ 9  9  9 26]]\n"
     ]
    }
   ],
   "source": [
    "a[a<mean]=mean\n",
    "print (a)"
   ]
  },
  {
   "cell_type": "code",
   "execution_count": 85,
   "metadata": {
    "collapsed": false
   },
   "outputs": [
    {
     "name": "stdout",
     "output_type": "stream",
     "text": [
      "[[18 18 18 44]\n",
      " [18 18 18 46]\n",
      " [18 18 18 48]\n",
      " [18 18 18 50]\n",
      " [18 18 18 52]]\n"
     ]
    }
   ],
   "source": [
    "d=a*2\n",
    "print (d)"
   ]
  },
  {
   "cell_type": "code",
   "execution_count": 90,
   "metadata": {
    "collapsed": false
   },
   "outputs": [
    {
     "name": "stdout",
     "output_type": "stream",
     "text": [
      "[[  4.5   4.5   4.5  11. ]\n",
      " [  4.5   4.5   4.5  11.5]\n",
      " [  4.5   4.5   4.5  12. ]\n",
      " [  4.5   4.5   4.5  12.5]\n",
      " [  4.5   4.5   4.5  13. ]]\n"
     ]
    }
   ],
   "source": [
    "d=a/2\n",
    "print(d)"
   ]
  },
  {
   "cell_type": "code",
   "execution_count": 91,
   "metadata": {
    "collapsed": false
   },
   "outputs": [
    {
     "name": "stdout",
     "output_type": "stream",
     "text": [
      "[[  40.5   40.5   40.5  242. ]\n",
      " [  40.5   40.5   40.5  264.5]\n",
      " [  40.5   40.5   40.5  288. ]\n",
      " [  40.5   40.5   40.5  312.5]\n",
      " [  40.5   40.5   40.5  338. ]]\n"
     ]
    }
   ],
   "source": [
    "# in NumPy, the product of two array won't give yo the matrix product. It will give you element-wise multiplication\n",
    "print (a*d)"
   ]
  },
  {
   "cell_type": "code",
   "execution_count": null,
   "metadata": {
    "collapsed": true
   },
   "outputs": [],
   "source": []
  }
 ],
 "metadata": {
  "kernelspec": {
   "display_name": "Python 3",
   "language": "python",
   "name": "python3"
  },
  "language_info": {
   "codemirror_mode": {
    "name": "ipython",
    "version": 3
   },
   "file_extension": ".py",
   "mimetype": "text/x-python",
   "name": "python",
   "nbconvert_exporter": "python",
   "pygments_lexer": "ipython3",
   "version": "3.5.1"
  }
 },
 "nbformat": 4,
 "nbformat_minor": 0
}
