{
 "cells": [
  {
   "cell_type": "markdown",
   "metadata": {},
   "source": [
    "                                      01 -04 Statistical Analysis"
   ]
  },
  {
   "cell_type": "markdown",
   "metadata": {},
   "source": [
    "                                          Global Statistics"
   ]
  },
  {
   "cell_type": "code",
   "execution_count": 9,
   "metadata": {
    "collapsed": true
   },
   "outputs": [],
   "source": [
    "import pandas as pd\n",
    "import numpy as np"
   ]
  },
  {
   "cell_type": "code",
   "execution_count": 3,
   "metadata": {
    "collapsed": false
   },
   "outputs": [],
   "source": [
    "# read data\n",
    "dates =pd.date_range('2010-01-01', '2012-12-31')\n",
    "symbols=['SPY', 'XOM','GOOG', 'GLD']\n",
    "# df=get_data(symbols, dates)\n",
    "# plot_data(df)"
   ]
  },
  {
   "cell_type": "code",
   "execution_count": 5,
   "metadata": {
    "collapsed": false
   },
   "outputs": [
    {
     "data": {
      "text/plain": [
       "'df.mean()'"
      ]
     },
     "execution_count": 5,
     "metadata": {},
     "output_type": "execute_result"
    }
   ],
   "source": [
    "#Compute the mean for each stock\n",
    "'''df.mean()'''"
   ]
  },
  {
   "cell_type": "code",
   "execution_count": 6,
   "metadata": {
    "collapsed": false
   },
   "outputs": [
    {
     "data": {
      "text/plain": [
       "'df.median()'"
      ]
     },
     "execution_count": 6,
     "metadata": {},
     "output_type": "execute_result"
    }
   ],
   "source": [
    "# get the median\n",
    "'''df.median()'''"
   ]
  },
  {
   "cell_type": "code",
   "execution_count": 7,
   "metadata": {
    "collapsed": false
   },
   "outputs": [
    {
     "data": {
      "text/plain": [
       "'df.sd()'"
      ]
     },
     "execution_count": 7,
     "metadata": {},
     "output_type": "execute_result"
    }
   ],
   "source": [
    "# standart deviation\n",
    "'''df.sd()'''"
   ]
  },
  {
   "cell_type": "markdown",
   "metadata": {},
   "source": [
    "                                                 Rolling Statistics"
   ]
  },
  {
   "cell_type": "markdown",
   "metadata": {},
   "source": [
    "Bollinger bands --> pay attention to prices above or below two standart deviations from the rolling mean.\n",
    "\n",
    "Would work only with not very volatile stocks."
   ]
  },
  {
   "cell_type": "code",
   "execution_count": 13,
   "metadata": {
    "collapsed": false
   },
   "outputs": [
    {
     "data": {
      "text/plain": [
       "\"ax= df['SPY'].plot(title='SPY rolling mean', label='SPY')\""
      ]
     },
     "execution_count": 13,
     "metadata": {},
     "output_type": "execute_result"
    }
   ],
   "source": [
    "# compute the rolling mean of SPY\n",
    "dates =pd.date_range('2010-01-01', '2012-12-31')\n",
    "symbols=['SPY']\n",
    "'''df=get_data(symbols,dates)'''\n",
    "\n",
    "'''ax= df['SPY'].plot(title='SPY rolling mean', label='SPY')'''"
   ]
  },
  {
   "cell_type": "code",
   "execution_count": 16,
   "metadata": {
    "collapsed": false
   },
   "outputs": [
    {
     "data": {
      "text/plain": [
       "\"rm_SPY.plot(label='Rolling Mean', ax=ax)\""
      ]
     },
     "execution_count": 16,
     "metadata": {},
     "output_type": "execute_result"
    }
   ],
   "source": [
    "# this is the true code but thea above code is also necessary\n",
    "# the first parameter is the values, the seconf is the window we will use\n",
    "\n",
    "'''rm_SPY=pd.rolling_mean(df[SPY], window=20)'''\n",
    "'''rm_SPY.plot(label='Rolling Mean', ax=ax)'''"
   ]
  },
  {
   "cell_type": "code",
   "execution_count": 17,
   "metadata": {
    "collapsed": true
   },
   "outputs": [],
   "source": [
    "#                            calculate bollinger bands\n"
   ]
  },
  {
   "cell_type": "code",
   "execution_count": 18,
   "metadata": {
    "collapsed": false
   },
   "outputs": [
    {
     "data": {
      "text/plain": [
       "'rm_SPY = get_rolling_mean(df[SPY], window=20)'"
      ]
     },
     "execution_count": 18,
     "metadata": {},
     "output_type": "execute_result"
    }
   ],
   "source": [
    "# 1- Compute rolling mean\n",
    "'''rm_SPY = get_rolling_mean(df[SPY], window=20)'''"
   ]
  },
  {
   "cell_type": "code",
   "execution_count": 21,
   "metadata": {
    "collapsed": false
   },
   "outputs": [
    {
     "data": {
      "text/plain": [
       "'rstd_SPY =get_rolling_std(df[SPY], window=20)'"
      ]
     },
     "execution_count": 21,
     "metadata": {},
     "output_type": "execute_result"
    }
   ],
   "source": [
    "# 2 - Compute rolling std\n",
    "def get_rolling_std(values, window):\n",
    "    return pd.rolling_std(values, window=window)\n",
    "\n",
    "'''rstd_SPY =get_rolling_std(df[SPY], window=20)'''"
   ]
  },
  {
   "cell_type": "code",
   "execution_count": 22,
   "metadata": {
    "collapsed": true
   },
   "outputs": [],
   "source": [
    "# 3 - Compute upper and lower bands\n",
    "def get_bollinger_bands(rm, rstd):\n",
    "    upper_band = rm + rstd*2\n",
    "    lower_band = rm - rstd*2\n",
    "    return upper_band , lower_band"
   ]
  },
  {
   "cell_type": "markdown",
   "metadata": {},
   "source": [
    "                                                      Daily Returns"
   ]
  },
  {
   "cell_type": "code",
   "execution_count": 24,
   "metadata": {
    "collapsed": true
   },
   "outputs": [],
   "source": [
    "# computing daily returns:\n",
    "\n",
    "def compute_daily_returns(df):\n",
    "    dr =df.pct_change(1) #for 1 day timespan - very useful attribute\n",
    "    return dr.fillna(0) #changes NaN numbers for zeros"
   ]
  },
  {
   "cell_type": "markdown",
   "metadata": {},
   "source": [
    "                                                    Cumulative returns"
   ]
  },
  {
   "cell_type": "code",
   "execution_count": null,
   "metadata": {
    "collapsed": true
   },
   "outputs": [],
   "source": [
    "#use .pct_change(t), as before"
   ]
  }
 ],
 "metadata": {
  "kernelspec": {
   "display_name": "Python 3",
   "language": "python",
   "name": "python3"
  },
  "language_info": {
   "codemirror_mode": {
    "name": "ipython",
    "version": 3
   },
   "file_extension": ".py",
   "mimetype": "text/x-python",
   "name": "python",
   "nbconvert_exporter": "python",
   "pygments_lexer": "ipython3",
   "version": "3.5.1"
  }
 },
 "nbformat": 4,
 "nbformat_minor": 0
}
