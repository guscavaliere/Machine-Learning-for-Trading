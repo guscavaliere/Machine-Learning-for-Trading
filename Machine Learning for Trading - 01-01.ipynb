{
 "cells": [
  {
   "cell_type": "markdown",
   "metadata": {},
   "source": [
    "Machine Learning for Trading"
   ]
  },
  {
   "cell_type": "markdown",
   "metadata": {},
   "source": [
    "01-01 : Reading and plotting data"
   ]
  },
  {
   "cell_type": "markdown",
   "metadata": {},
   "source": [
    "We shall use CSV files: those are plain text. CDV stand for Comma Separated Values.\n",
    "\n",
    "Stock data files have thousand of lines and rows.\n",
    "\n",
    "We tipically find in real stock data : Date, Open, High, Low, Close, Volume, Adj Close\n",
    "(the dates start with most recent dates towards older dates)"
   ]
  },
  {
   "cell_type": "markdown",
   "metadata": {},
   "source": [
    "We shall use Python Data Analysis pandas library. One of it's advantages are the databases.\n",
    "\n",
    "The databases are different from the csv files, as they set time in a different manner (from oldest to newest).\n",
    "\n",
    "Nan values represent 'not a number', and can cause problems."
   ]
  },
  {
   "cell_type": "code",
   "execution_count": 2,
   "metadata": {
    "collapsed": true
   },
   "outputs": [],
   "source": [
    "import pandas as pd #we rename it as pd to avoid calling pandas all the time"
   ]
  },
  {
   "cell_type": "markdown",
   "metadata": {},
   "source": [
    " pd.read_csv(data/{'stock name'}.csv) is the function we call to read csv files into a dataframe.\n",
    " \n",
    " data/{}.csv  é o arquivo que contém os dados."
   ]
  },
  {
   "cell_type": "code",
   "execution_count": 7,
   "metadata": {
    "collapsed": false
   },
   "outputs": [],
   "source": [
    "#df = pd.read_csv('data/{stock name}.csv') ----> do not forget the \" \" on the file #"
   ]
  },
  {
   "cell_type": "markdown",
   "metadata": {},
   "source": [
    "We can acess any part of our dataframe, using those methods:"
   ]
  },
  {
   "cell_type": "code",
   "execution_count": 8,
   "metadata": {
    "collapsed": true
   },
   "outputs": [],
   "source": [
    "#   df.tail(n) for the last n rows - default is 5  #\n",
    "#   df.head(n) for the first n rows - default is 5  #\n",
    "#   df[a:b] - slicing between a and b, b not included #\n"
   ]
  },
  {
   "cell_type": "markdown",
   "metadata": {},
   "source": [
    "Another important method is max(), for it outputs the maximum for the chosen parameter:"
   ]
  },
  {
   "cell_type": "code",
   "execution_count": 9,
   "metadata": {
    "collapsed": true
   },
   "outputs": [],
   "source": [
    "# df['parameter -ex: Close'].max() #\n",
    "# df['parameter].min()#\n",
    "#df[parameter].mean()#"
   ]
  },
  {
   "cell_type": "markdown",
   "metadata": {},
   "source": [
    "In order to plot data, we call the Python library matplotlib.pyplot"
   ]
  },
  {
   "cell_type": "code",
   "execution_count": 11,
   "metadata": {
    "collapsed": true
   },
   "outputs": [],
   "source": [
    "import matplotlib.pyplot as plt #again, we call it plt to avoid rewriting extensively"
   ]
  },
  {
   "cell_type": "markdown",
   "metadata": {},
   "source": [
    "To plot and show the plotting, we shall call one method and one function"
   ]
  },
  {
   "cell_type": "code",
   "execution_count": 12,
   "metadata": {
    "collapsed": true
   },
   "outputs": [],
   "source": [
    "# df['parameter'].plot()#\n",
    "# plt.show() #"
   ]
  },
  {
   "cell_type": "markdown",
   "metadata": {},
   "source": [
    "Observe that there's no label on the axis nor header. Also, the data is plotted in the reverse order"
   ]
  },
  {
   "cell_type": "markdown",
   "metadata": {},
   "source": [
    "To plot two columns use:"
   ]
  },
  {
   "cell_type": "code",
   "execution_count": 13,
   "metadata": {
    "collapsed": true
   },
   "outputs": [],
   "source": [
    "# df[['parameter1', 'parameter 2']].plot()#"
   ]
  },
  {
   "cell_type": "code",
   "execution_count": null,
   "metadata": {
    "collapsed": true
   },
   "outputs": [],
   "source": []
  }
 ],
 "metadata": {
  "kernelspec": {
   "display_name": "Python 3",
   "language": "python",
   "name": "python3"
  },
  "language_info": {
   "codemirror_mode": {
    "name": "ipython",
    "version": 3
   },
   "file_extension": ".py",
   "mimetype": "text/x-python",
   "name": "python",
   "nbconvert_exporter": "python",
   "pygments_lexer": "ipython3",
   "version": "3.5.1"
  }
 },
 "nbformat": 4,
 "nbformat_minor": 0
}
