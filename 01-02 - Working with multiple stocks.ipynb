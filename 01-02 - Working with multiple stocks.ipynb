{
 "cells": [
  {
   "cell_type": "markdown",
   "metadata": {},
   "source": [
    "                                  01 -02: Working with Multiple Stocks"
   ]
  },
  {
   "cell_type": "markdown",
   "metadata": {},
   "source": [
    "Problems to solve:\n",
    "\n",
    "[1] Date range\n",
    "\n",
    "[2] Date index\n",
    "\n",
    "[3] Rendeem multiple stocks\n",
    "\n",
    "[4] Align dates\n",
    "\n",
    "[5] Proper date range\n",
    "\n",
    "Quiz: 252 trading days almost every year at NYSE "
   ]
  },
  {
   "cell_type": "markdown",
   "metadata": {},
   "source": [
    "Steps:\n",
    "   \n",
    "create an empty dataframe with the date range we want\n",
    "\n",
    "separetely input the data for different stocks on each specific dataframe (ex: dfSPY) \n",
    "\n",
    "---> SPY is a reference stock (trades whenever the market is open)\n",
    "\n",
    "join the dataframes (the intersection)\n"
   ]
  },
  {
   "cell_type": "markdown",
   "metadata": {},
   "source": [
    "                                       Step 1 : building the dataframe"
   ]
  },
  {
   "cell_type": "code",
   "execution_count": 1,
   "metadata": {
    "collapsed": true
   },
   "outputs": [],
   "source": [
    "import pandas as pd\n"
   ]
  },
  {
   "cell_type": "markdown",
   "metadata": {},
   "source": [
    "We need to set the date range and populate our dataframe"
   ]
  },
  {
   "cell_type": "code",
   "execution_count": 2,
   "metadata": {
    "collapsed": true
   },
   "outputs": [],
   "source": [
    "start_date ='2016-04-26' # set start date (pay attention to the date format and the ' ')\n",
    "end_date ='2016-04-27' #set end date\n"
   ]
  },
  {
   "cell_type": "code",
   "execution_count": 6,
   "metadata": {
    "collapsed": true
   },
   "outputs": [],
   "source": [
    "dates =pd.date_range(start_date, end_date) # set the the date range we want\n",
    "# at least two must be called : star, end or period\n",
    "#provides a list of date-time indexed object. 00:00 is the default time index"
   ]
  },
  {
   "cell_type": "code",
   "execution_count": 8,
   "metadata": {
    "collapsed": true
   },
   "outputs": [],
   "source": [
    "df1=pd.DataFrame(index=dates) #we create the empty dataframe indexed with the date-time range we wnat\n",
    "# no columns"
   ]
  },
  {
   "cell_type": "markdown",
   "metadata": {},
   "source": [
    "Problems [1] and [2] solved"
   ]
  },
  {
   "cell_type": "markdown",
   "metadata": {},
   "source": [
    "     We shall now join the empty dataframe (indexed as we want) with the dataframe we get from the csv data."
   ]
  },
  {
   "cell_type": "code",
   "execution_count": 12,
   "metadata": {
    "collapsed": false
   },
   "outputs": [],
   "source": [
    "#dfSPY = pd.read_csv('data/SPY.csv', index_col ='Date', parse_dates=True) creates a temporary dataframe with SPY data, for example #\n"
   ]
  },
  {
   "cell_type": "markdown",
   "metadata": {},
   "source": [
    "It is particularly important to index dfSPY with dates. Else, it would be indexed by integers, causing the .join() to output NaN in all columns."
   ]
  },
  {
   "cell_type": "code",
   "execution_count": 11,
   "metadata": {
    "collapsed": true
   },
   "outputs": [],
   "source": [
    "#df1 = df1.join(dfSPY) we join the dataframes#"
   ]
  },
  {
   "cell_type": "markdown",
   "metadata": {},
   "source": [
    "Attention: the .join() does a left join by default, joining only the data in the right that has an index on the left dataframe input.\n",
    "\n",
    "Else, it introduces 'NaN'."
   ]
  },
  {
   "cell_type": "markdown",
   "metadata": {},
   "source": [
    "---> We use 'usecols' to choose which columns we like to use. \n",
    "\n",
    "---> csv files have 'nan' as a string. We need to indicate that it is 'not a number', using na_values"
   ]
  },
  {
   "cell_type": "code",
   "execution_count": 15,
   "metadata": {
    "collapsed": true
   },
   "outputs": [],
   "source": [
    "#dfSPY = pd.read_csv('data/SPY.csv', index_col ='Date', parse_dates=True, usecols =['parameter', 'parameter']), na_values=['nan']#\n",
    "\n"
   ]
  },
  {
   "cell_type": "markdown",
   "metadata": {},
   "source": [
    "If we are interested only in the days the stock traded, we can use the method .dropna()"
   ]
  },
  {
   "cell_type": "code",
   "execution_count": 16,
   "metadata": {
    "collapsed": true
   },
   "outputs": [],
   "source": [
    "df1=df1.dropna()\n"
   ]
  },
  {
   "cell_type": "markdown",
   "metadata": {},
   "source": [
    "We can make this step easier by calling the 'how' value on the.join()."
   ]
  },
  {
   "cell_type": "code",
   "execution_count": 17,
   "metadata": {
    "collapsed": true
   },
   "outputs": [],
   "source": [
    "#df1.join(dfSPY, how='inner') will output only the intersection of indexes\n",
    "\n",
    "#df1.join(dfSPY, how='outer') will form an union of indexes"
   ]
  },
  {
   "cell_type": "markdown",
   "metadata": {},
   "source": [
    " Now we want to focus on a subset of the data - a slice"
   ]
  },
  {
   "cell_type": "code",
   "execution_count": 21,
   "metadata": {
    "collapsed": false
   },
   "outputs": [],
   "source": [
    "#df1 = df1[start_date, end_date, ['GOOG','GLD']]"
   ]
  },
  {
   "cell_type": "markdown",
   "metadata": {},
   "source": [
    "There are basically three ways we can slice a dataframe"
   ]
  },
  {
   "cell_type": "markdown",
   "metadata": {},
   "source": [
    "                        1st: row range slicing using DataFrame.ix() selector"
   ]
  },
  {
   "cell_type": "code",
   "execution_count": 22,
   "metadata": {
    "collapsed": true
   },
   "outputs": [],
   "source": [
    "# print df.ix['fisrt_date','end_date'] \n",
    "\n",
    "# ---> considered more pythonic and robust\n",
    "\n",
    "# ----> dates must be on chronological order"
   ]
  },
  {
   "cell_type": "markdown",
   "metadata": {},
   "source": [
    "                                      2nd: column range slicing"
   ]
  },
  {
   "cell_type": "code",
   "execution_count": 23,
   "metadata": {
    "collapsed": true
   },
   "outputs": [],
   "source": [
    "# for a single column, we simply input the label\n",
    "\n",
    "# df1 =df['GOOG']"
   ]
  },
  {
   "cell_type": "code",
   "execution_count": 24,
   "metadata": {
    "collapsed": true
   },
   "outputs": [],
   "source": [
    "# for multiple coumns, we pass a list of labels\n",
    "\n",
    "#df1 =df[['GOOG','GLD']]"
   ]
  },
  {
   "cell_type": "markdown",
   "metadata": {},
   "source": [
    "                                     3rd: slice by both ranges"
   ]
  },
  {
   "cell_type": "code",
   "execution_count": 25,
   "metadata": {
    "collapsed": true
   },
   "outputs": [],
   "source": [
    "#we separate date ranges by a colon (':'), and input column labels by a list --- using the .ix() method\n",
    "\n",
    "#                        df=df1.ix(start_date:end_date, ['GOOG', 'GLD'])\n",
    "\n"
   ]
  },
  {
   "cell_type": "markdown",
   "metadata": {},
   "source": [
    "                                         Problems with plotting"
   ]
  },
  {
   "cell_type": "markdown",
   "metadata": {},
   "source": [
    "In order to make better comparisons, we need to set the plot on the same point. That is, normalize the data"
   ]
  },
  {
   "cell_type": "code",
   "execution_count": 27,
   "metadata": {
    "collapsed": false
   },
   "outputs": [
    {
     "data": {
      "text/plain": [
       "'df1=df1/df1[0]'"
      ]
     },
     "execution_count": 27,
     "metadata": {},
     "output_type": "execute_result"
    }
   ],
   "source": [
    "'''for date in df1.index:\n",
    "    for s in symbols:\n",
    "        df1[date,s]=df1[date,s]/df1[0,s]'''\n",
    "\n",
    "\n",
    "'''df1=df1/df1[0]'''  #preffered method (faster and more elegant)\n",
    "\n"
   ]
  },
  {
   "cell_type": "markdown",
   "metadata": {},
   "source": [
    "---> Both lines of code above accomplish the same goaç "
   ]
  },
  {
   "cell_type": "code",
   "execution_count": 28,
   "metadata": {
    "collapsed": true
   },
   "outputs": [],
   "source": [
    "import os\n",
    "import pandas as pd\n",
    "import matplotlib.pyplot as plt"
   ]
  },
  {
   "cell_type": "markdown",
   "metadata": {},
   "source": [
    "We define a plot data function"
   ]
  },
  {
   "cell_type": "code",
   "execution_count": 34,
   "metadata": {
    "collapsed": false
   },
   "outputs": [],
   "source": [
    "def plot_data(df, title='Stock Prices'): #takes the dataframe and title as input\n",
    "    ax= df.plot(title=title) #we define the axis\n",
    "    ax.set_xlabel('Date')\n",
    "    zx.set_ylabel('Price')\n",
    "    plt.show()"
   ]
  },
  {
   "cell_type": "markdown",
   "metadata": {},
   "source": [
    "                       normalize stock prices using the first row of the dataframe"
   ]
  },
  {
   "cell_type": "code",
   "execution_count": 37,
   "metadata": {
    "collapsed": true
   },
   "outputs": [],
   "source": [
    "def normalize_data(df):\n",
    "    return df/df.ix[0, :]\n",
    "\n",
    "\n"
   ]
  },
  {
   "cell_type": "code",
   "execution_count": null,
   "metadata": {
    "collapsed": true
   },
   "outputs": [],
   "source": []
  }
 ],
 "metadata": {
  "kernelspec": {
   "display_name": "Python 3",
   "language": "python",
   "name": "python3"
  },
  "language_info": {
   "codemirror_mode": {
    "name": "ipython",
    "version": 3
   },
   "file_extension": ".py",
   "mimetype": "text/x-python",
   "name": "python",
   "nbconvert_exporter": "python",
   "pygments_lexer": "ipython3",
   "version": "3.5.1"
  }
 },
 "nbformat": 4,
 "nbformat_minor": 0
}
